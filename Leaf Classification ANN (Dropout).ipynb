{
  "cells": [
    {
      "metadata": {
        "collapsed": true,
        "trusted": false,
        "_uuid": "9b05203ba0ab3255c7962dc642cc951af7735e94"
      },
      "cell_type": "code",
      "source": "import pandas as pd\nimport numpy as np\nimport os",
      "execution_count": 1,
      "outputs": []
    },
    {
      "metadata": {
        "trusted": false,
        "_uuid": "532ccdd04eb7b22c541a50ca51aa76f984d9af50"
      },
      "cell_type": "code",
      "source": "trainData = pd.read_csv('../input/train.csv')\ntrainData = trainData.iloc[:,1:]\ntrainData.head()",
      "execution_count": 3,
      "outputs": [
        {
          "data": {
            "text/html": "<div>\n<style>\n    .dataframe thead tr:only-child th {\n        text-align: right;\n    }\n\n    .dataframe thead th {\n        text-align: left;\n    }\n\n    .dataframe tbody tr th {\n        vertical-align: top;\n    }\n</style>\n<table border=\"1\" class=\"dataframe\">\n  <thead>\n    <tr style=\"text-align: right;\">\n      <th></th>\n      <th>species</th>\n      <th>margin1</th>\n      <th>margin2</th>\n      <th>margin3</th>\n      <th>margin4</th>\n      <th>margin5</th>\n      <th>margin6</th>\n      <th>margin7</th>\n      <th>margin8</th>\n      <th>margin9</th>\n      <th>...</th>\n      <th>texture55</th>\n      <th>texture56</th>\n      <th>texture57</th>\n      <th>texture58</th>\n      <th>texture59</th>\n      <th>texture60</th>\n      <th>texture61</th>\n      <th>texture62</th>\n      <th>texture63</th>\n      <th>texture64</th>\n    </tr>\n  </thead>\n  <tbody>\n    <tr>\n      <th>0</th>\n      <td>Acer_Opalus</td>\n      <td>0.007812</td>\n      <td>0.023438</td>\n      <td>0.023438</td>\n      <td>0.003906</td>\n      <td>0.011719</td>\n      <td>0.009766</td>\n      <td>0.027344</td>\n      <td>0.0</td>\n      <td>0.001953</td>\n      <td>...</td>\n      <td>0.007812</td>\n      <td>0.000000</td>\n      <td>0.002930</td>\n      <td>0.002930</td>\n      <td>0.035156</td>\n      <td>0.0</td>\n      <td>0.0</td>\n      <td>0.004883</td>\n      <td>0.000000</td>\n      <td>0.025391</td>\n    </tr>\n    <tr>\n      <th>1</th>\n      <td>Pterocarya_Stenoptera</td>\n      <td>0.005859</td>\n      <td>0.000000</td>\n      <td>0.031250</td>\n      <td>0.015625</td>\n      <td>0.025391</td>\n      <td>0.001953</td>\n      <td>0.019531</td>\n      <td>0.0</td>\n      <td>0.000000</td>\n      <td>...</td>\n      <td>0.000977</td>\n      <td>0.000000</td>\n      <td>0.000000</td>\n      <td>0.000977</td>\n      <td>0.023438</td>\n      <td>0.0</td>\n      <td>0.0</td>\n      <td>0.000977</td>\n      <td>0.039062</td>\n      <td>0.022461</td>\n    </tr>\n    <tr>\n      <th>2</th>\n      <td>Quercus_Hartwissiana</td>\n      <td>0.005859</td>\n      <td>0.009766</td>\n      <td>0.019531</td>\n      <td>0.007812</td>\n      <td>0.003906</td>\n      <td>0.005859</td>\n      <td>0.068359</td>\n      <td>0.0</td>\n      <td>0.000000</td>\n      <td>...</td>\n      <td>0.154300</td>\n      <td>0.000000</td>\n      <td>0.005859</td>\n      <td>0.000977</td>\n      <td>0.007812</td>\n      <td>0.0</td>\n      <td>0.0</td>\n      <td>0.000000</td>\n      <td>0.020508</td>\n      <td>0.002930</td>\n    </tr>\n    <tr>\n      <th>3</th>\n      <td>Tilia_Tomentosa</td>\n      <td>0.000000</td>\n      <td>0.003906</td>\n      <td>0.023438</td>\n      <td>0.005859</td>\n      <td>0.021484</td>\n      <td>0.019531</td>\n      <td>0.023438</td>\n      <td>0.0</td>\n      <td>0.013672</td>\n      <td>...</td>\n      <td>0.000000</td>\n      <td>0.000977</td>\n      <td>0.000000</td>\n      <td>0.000000</td>\n      <td>0.020508</td>\n      <td>0.0</td>\n      <td>0.0</td>\n      <td>0.017578</td>\n      <td>0.000000</td>\n      <td>0.047852</td>\n    </tr>\n    <tr>\n      <th>4</th>\n      <td>Quercus_Variabilis</td>\n      <td>0.005859</td>\n      <td>0.003906</td>\n      <td>0.048828</td>\n      <td>0.009766</td>\n      <td>0.013672</td>\n      <td>0.015625</td>\n      <td>0.005859</td>\n      <td>0.0</td>\n      <td>0.000000</td>\n      <td>...</td>\n      <td>0.096680</td>\n      <td>0.000000</td>\n      <td>0.021484</td>\n      <td>0.000000</td>\n      <td>0.000000</td>\n      <td>0.0</td>\n      <td>0.0</td>\n      <td>0.000000</td>\n      <td>0.000000</td>\n      <td>0.031250</td>\n    </tr>\n  </tbody>\n</table>\n<p>5 rows × 193 columns</p>\n</div>",
            "text/plain": "                 species   margin1   margin2   margin3   margin4   margin5  \\\n0            Acer_Opalus  0.007812  0.023438  0.023438  0.003906  0.011719   \n1  Pterocarya_Stenoptera  0.005859  0.000000  0.031250  0.015625  0.025391   \n2   Quercus_Hartwissiana  0.005859  0.009766  0.019531  0.007812  0.003906   \n3        Tilia_Tomentosa  0.000000  0.003906  0.023438  0.005859  0.021484   \n4     Quercus_Variabilis  0.005859  0.003906  0.048828  0.009766  0.013672   \n\n    margin6   margin7  margin8   margin9    ...      texture55  texture56  \\\n0  0.009766  0.027344      0.0  0.001953    ...       0.007812   0.000000   \n1  0.001953  0.019531      0.0  0.000000    ...       0.000977   0.000000   \n2  0.005859  0.068359      0.0  0.000000    ...       0.154300   0.000000   \n3  0.019531  0.023438      0.0  0.013672    ...       0.000000   0.000977   \n4  0.015625  0.005859      0.0  0.000000    ...       0.096680   0.000000   \n\n   texture57  texture58  texture59  texture60  texture61  texture62  \\\n0   0.002930   0.002930   0.035156        0.0        0.0   0.004883   \n1   0.000000   0.000977   0.023438        0.0        0.0   0.000977   \n2   0.005859   0.000977   0.007812        0.0        0.0   0.000000   \n3   0.000000   0.000000   0.020508        0.0        0.0   0.017578   \n4   0.021484   0.000000   0.000000        0.0        0.0   0.000000   \n\n   texture63  texture64  \n0   0.000000   0.025391  \n1   0.039062   0.022461  \n2   0.020508   0.002930  \n3   0.000000   0.047852  \n4   0.000000   0.031250  \n\n[5 rows x 193 columns]"
          },
          "execution_count": 3,
          "metadata": {},
          "output_type": "execute_result"
        }
      ]
    },
    {
      "metadata": {
        "trusted": false,
        "_uuid": "be4ff2c29ab34d2624ce007f073bb94120f8f4e8"
      },
      "cell_type": "code",
      "source": "testData = pd.read_csv('../input/test.csv')\ntestData = testData.iloc[:,1:]\ntestData.head()",
      "execution_count": 4,
      "outputs": [
        {
          "data": {
            "text/html": "<div>\n<style>\n    .dataframe thead tr:only-child th {\n        text-align: right;\n    }\n\n    .dataframe thead th {\n        text-align: left;\n    }\n\n    .dataframe tbody tr th {\n        vertical-align: top;\n    }\n</style>\n<table border=\"1\" class=\"dataframe\">\n  <thead>\n    <tr style=\"text-align: right;\">\n      <th></th>\n      <th>margin1</th>\n      <th>margin2</th>\n      <th>margin3</th>\n      <th>margin4</th>\n      <th>margin5</th>\n      <th>margin6</th>\n      <th>margin7</th>\n      <th>margin8</th>\n      <th>margin9</th>\n      <th>margin10</th>\n      <th>...</th>\n      <th>texture55</th>\n      <th>texture56</th>\n      <th>texture57</th>\n      <th>texture58</th>\n      <th>texture59</th>\n      <th>texture60</th>\n      <th>texture61</th>\n      <th>texture62</th>\n      <th>texture63</th>\n      <th>texture64</th>\n    </tr>\n  </thead>\n  <tbody>\n    <tr>\n      <th>0</th>\n      <td>0.019531</td>\n      <td>0.009766</td>\n      <td>0.078125</td>\n      <td>0.011719</td>\n      <td>0.003906</td>\n      <td>0.015625</td>\n      <td>0.005859</td>\n      <td>0.0</td>\n      <td>0.005859</td>\n      <td>0.023438</td>\n      <td>...</td>\n      <td>0.006836</td>\n      <td>0.000000</td>\n      <td>0.015625</td>\n      <td>0.000977</td>\n      <td>0.015625</td>\n      <td>0.0</td>\n      <td>0.0</td>\n      <td>0.000000</td>\n      <td>0.003906</td>\n      <td>0.053711</td>\n    </tr>\n    <tr>\n      <th>1</th>\n      <td>0.007812</td>\n      <td>0.005859</td>\n      <td>0.064453</td>\n      <td>0.009766</td>\n      <td>0.003906</td>\n      <td>0.013672</td>\n      <td>0.007812</td>\n      <td>0.0</td>\n      <td>0.033203</td>\n      <td>0.023438</td>\n      <td>...</td>\n      <td>0.000000</td>\n      <td>0.000000</td>\n      <td>0.006836</td>\n      <td>0.001953</td>\n      <td>0.013672</td>\n      <td>0.0</td>\n      <td>0.0</td>\n      <td>0.000977</td>\n      <td>0.037109</td>\n      <td>0.044922</td>\n    </tr>\n    <tr>\n      <th>2</th>\n      <td>0.000000</td>\n      <td>0.000000</td>\n      <td>0.001953</td>\n      <td>0.021484</td>\n      <td>0.041016</td>\n      <td>0.000000</td>\n      <td>0.023438</td>\n      <td>0.0</td>\n      <td>0.011719</td>\n      <td>0.005859</td>\n      <td>...</td>\n      <td>0.128910</td>\n      <td>0.000000</td>\n      <td>0.000977</td>\n      <td>0.000000</td>\n      <td>0.000000</td>\n      <td>0.0</td>\n      <td>0.0</td>\n      <td>0.015625</td>\n      <td>0.000000</td>\n      <td>0.000000</td>\n    </tr>\n    <tr>\n      <th>3</th>\n      <td>0.000000</td>\n      <td>0.000000</td>\n      <td>0.009766</td>\n      <td>0.011719</td>\n      <td>0.017578</td>\n      <td>0.000000</td>\n      <td>0.003906</td>\n      <td>0.0</td>\n      <td>0.003906</td>\n      <td>0.001953</td>\n      <td>...</td>\n      <td>0.012695</td>\n      <td>0.015625</td>\n      <td>0.002930</td>\n      <td>0.036133</td>\n      <td>0.013672</td>\n      <td>0.0</td>\n      <td>0.0</td>\n      <td>0.089844</td>\n      <td>0.000000</td>\n      <td>0.008789</td>\n    </tr>\n    <tr>\n      <th>4</th>\n      <td>0.001953</td>\n      <td>0.000000</td>\n      <td>0.015625</td>\n      <td>0.009766</td>\n      <td>0.039062</td>\n      <td>0.000000</td>\n      <td>0.009766</td>\n      <td>0.0</td>\n      <td>0.005859</td>\n      <td>0.000000</td>\n      <td>...</td>\n      <td>0.000000</td>\n      <td>0.042969</td>\n      <td>0.016602</td>\n      <td>0.010742</td>\n      <td>0.041016</td>\n      <td>0.0</td>\n      <td>0.0</td>\n      <td>0.007812</td>\n      <td>0.009766</td>\n      <td>0.007812</td>\n    </tr>\n  </tbody>\n</table>\n<p>5 rows × 192 columns</p>\n</div>",
            "text/plain": "    margin1   margin2   margin3   margin4   margin5   margin6   margin7  \\\n0  0.019531  0.009766  0.078125  0.011719  0.003906  0.015625  0.005859   \n1  0.007812  0.005859  0.064453  0.009766  0.003906  0.013672  0.007812   \n2  0.000000  0.000000  0.001953  0.021484  0.041016  0.000000  0.023438   \n3  0.000000  0.000000  0.009766  0.011719  0.017578  0.000000  0.003906   \n4  0.001953  0.000000  0.015625  0.009766  0.039062  0.000000  0.009766   \n\n   margin8   margin9  margin10    ...      texture55  texture56  texture57  \\\n0      0.0  0.005859  0.023438    ...       0.006836   0.000000   0.015625   \n1      0.0  0.033203  0.023438    ...       0.000000   0.000000   0.006836   \n2      0.0  0.011719  0.005859    ...       0.128910   0.000000   0.000977   \n3      0.0  0.003906  0.001953    ...       0.012695   0.015625   0.002930   \n4      0.0  0.005859  0.000000    ...       0.000000   0.042969   0.016602   \n\n   texture58  texture59  texture60  texture61  texture62  texture63  texture64  \n0   0.000977   0.015625        0.0        0.0   0.000000   0.003906   0.053711  \n1   0.001953   0.013672        0.0        0.0   0.000977   0.037109   0.044922  \n2   0.000000   0.000000        0.0        0.0   0.015625   0.000000   0.000000  \n3   0.036133   0.013672        0.0        0.0   0.089844   0.000000   0.008789  \n4   0.010742   0.041016        0.0        0.0   0.007812   0.009766   0.007812  \n\n[5 rows x 192 columns]"
          },
          "execution_count": 4,
          "metadata": {},
          "output_type": "execute_result"
        }
      ]
    },
    {
      "metadata": {
        "trusted": false,
        "_uuid": "6c4c94495b82b1ef2229f418cb0a8f2fb5408311"
      },
      "cell_type": "code",
      "source": "trainData.isnull().values.any() #check null values",
      "execution_count": 5,
      "outputs": [
        {
          "data": {
            "text/plain": "False"
          },
          "execution_count": 5,
          "metadata": {},
          "output_type": "execute_result"
        }
      ]
    },
    {
      "metadata": {
        "trusted": false,
        "_uuid": "253a00e492ad4494bab3f294fdff0df86d1e36bb"
      },
      "cell_type": "code",
      "source": "testData.isnull().values.any() #check null values",
      "execution_count": 6,
      "outputs": [
        {
          "data": {
            "text/plain": "False"
          },
          "execution_count": 6,
          "metadata": {},
          "output_type": "execute_result"
        }
      ]
    },
    {
      "metadata": {
        "collapsed": true,
        "trusted": false,
        "_uuid": "8ac07baa1c922aca67ef311864c0cc0963e453aa"
      },
      "cell_type": "code",
      "source": "#trainData[\"species\"].value_counts()",
      "execution_count": 1,
      "outputs": []
    },
    {
      "metadata": {
        "collapsed": true,
        "trusted": false,
        "_uuid": "8872d5486de94572a0d9c4afc4624e77d575144f"
      },
      "cell_type": "code",
      "source": "from sklearn.utils import shuffle\ntrainData = shuffle(trainData)",
      "execution_count": 7,
      "outputs": []
    },
    {
      "metadata": {
        "collapsed": true,
        "trusted": false,
        "_uuid": "4105bf17ee6a58114918758e2b1ac844a1b1bd41"
      },
      "cell_type": "code",
      "source": "trainData = trainData.values\ny = trainData[:,0:1]\nX= trainData[:,1:].astype(float)",
      "execution_count": 8,
      "outputs": []
    },
    {
      "metadata": {
        "collapsed": true,
        "trusted": false,
        "_uuid": "5eb8a44ee518d658ca893dadfe2d4538d3017f65"
      },
      "cell_type": "code",
      "source": "y=pd.DataFrame(y, columns=['species'])\ndf = pd.get_dummies(y,columns=['species'])\nspecies = [s.replace('species_', '') for s in df.columns.tolist()]\ndf.columns = species",
      "execution_count": 9,
      "outputs": []
    },
    {
      "metadata": {
        "collapsed": true,
        "trusted": false,
        "_uuid": "57109b36c3b583522f1f4a633bbdf128f435ecb4"
      },
      "cell_type": "code",
      "source": "#df",
      "execution_count": 13,
      "outputs": []
    },
    {
      "metadata": {
        "trusted": false,
        "_uuid": "4bb01c0475ea9e802f48bf27d94cf146b568660c"
      },
      "cell_type": "code",
      "source": "y = df.values\ny.shape",
      "execution_count": 10,
      "outputs": [
        {
          "data": {
            "text/plain": "(990, 99)"
          },
          "execution_count": 10,
          "metadata": {},
          "output_type": "execute_result"
        }
      ]
    },
    {
      "metadata": {
        "collapsed": true,
        "trusted": false,
        "_uuid": "2b21d81f2a2482efc81f084b72c8aa909e2d4aa9"
      },
      "cell_type": "code",
      "source": "from sklearn.model_selection  import train_test_split\nX_train, X_test, y_train, y_test = train_test_split(X, y, test_size = 0.2, random_state = 42)",
      "execution_count": 11,
      "outputs": []
    },
    {
      "metadata": {
        "collapsed": true,
        "trusted": false,
        "_uuid": "558e65cdfb5a5cf5ccafc124a7ad2d8905187347"
      },
      "cell_type": "code",
      "source": "from sklearn.preprocessing import StandardScaler\nsc_X = StandardScaler()\nX_train = sc_X.fit_transform(X_train)\nX_test = sc_X.transform(X_test)",
      "execution_count": 12,
      "outputs": []
    },
    {
      "metadata": {
        "trusted": false,
        "_uuid": "f19e8467a874456ea08bbb7eda39b3960d9e816a"
      },
      "cell_type": "code",
      "source": "# Part 2 - Now let's make the ANN!\n\n# Importing the Keras libraries and packages\nfrom keras.models import Sequential  #to initialize the neural network\nfrom keras.layers import Dense  # to build the layers of ANN\nfrom keras.layers import Dropout",
      "execution_count": 13,
      "outputs": [
        {
          "name": "stderr",
          "output_type": "stream",
          "text": "Using TensorFlow backend.\n"
        }
      ]
    },
    {
      "metadata": {
        "collapsed": true,
        "trusted": false,
        "_uuid": "2e90dcaba9776e72d93e73441018cb289daee89f"
      },
      "cell_type": "code",
      "source": "# Initialising the ANN\nclassifier = Sequential()",
      "execution_count": 14,
      "outputs": []
    },
    {
      "metadata": {
        "collapsed": true,
        "trusted": false,
        "_uuid": "3688e60e5d2333144fe3b71e3f232833d701afe2"
      },
      "cell_type": "code",
      "source": "# Adding the input layer and the first hidden layer\nclassifier.add(Dense(units = 100,  kernel_initializer ='uniform', activation = 'relu', input_dim = 192))\nclassifier.add(Dropout(0.2))",
      "execution_count": 15,
      "outputs": []
    },
    {
      "metadata": {
        "collapsed": true,
        "trusted": false,
        "_uuid": "a296e2e6cf7b82d4a3154a59daaa689b3465cc58"
      },
      "cell_type": "code",
      "source": "# Adding the second hidden layer\nclassifier.add(Dense(units = 100, kernel_initializer ='uniform', activation = 'relu'))\nclassifier.add(Dropout(0.2))",
      "execution_count": 16,
      "outputs": []
    },
    {
      "metadata": {
        "collapsed": true,
        "trusted": false,
        "_uuid": "227afacc45129069a0105c2b4c5942af881b15de"
      },
      "cell_type": "code",
      "source": "# Adding the third hidden layer\nclassifier.add(Dense(units = 100, kernel_initializer ='uniform', activation = 'relu'))",
      "execution_count": 17,
      "outputs": []
    },
    {
      "metadata": {
        "collapsed": true,
        "trusted": false,
        "_uuid": "7f0f9bf26a506997112760c08ea6b96ba1981965"
      },
      "cell_type": "code",
      "source": "# Adding the output layer\nclassifier.add(Dense(units=99, kernel_initializer = 'uniform', activation = 'softmax'))",
      "execution_count": 18,
      "outputs": []
    },
    {
      "metadata": {
        "collapsed": true,
        "trusted": false,
        "_uuid": "acfbe01e13f927f6746b1f53908054458c86e27f"
      },
      "cell_type": "code",
      "source": "# Compiling the ANN\nclassifier.compile(optimizer = 'adam', loss = 'categorical_crossentropy', metrics = ['accuracy'])",
      "execution_count": 19,
      "outputs": []
    },
    {
      "metadata": {
        "trusted": false,
        "_uuid": "0fed8892f4a028d715f46114197a293f6b59657f"
      },
      "cell_type": "code",
      "source": "# Fitting the ANN to the Training set\nmodel = classifier.fit(X_train, y_train, batch_size = 5, nb_epoch = 500)",
      "execution_count": null,
      "outputs": [
        {
          "name": "stderr",
          "output_type": "stream",
          "text": "/opt/conda/lib/python3.6/site-packages/Keras-2.1.3-py3.6.egg/keras/models.py:945: UserWarning: The `nb_epoch` argument in `fit` has been renamed `epochs`.\n"
        },
        {
          "name": "stdout",
          "output_type": "stream",
          "text": "Epoch 1/500\n792/792 [==============================] - 1s 704us/step - loss: 4.2768 - acc: 0.0492\nEpoch 2/500\n792/792 [==============================] - 0s 444us/step - loss: 2.6673 - acc: 0.2348\nEpoch 3/500\n792/792 [==============================] - 0s 417us/step - loss: 1.5980 - acc: 0.4545\nEpoch 4/500\n792/792 [==============================] - 0s 423us/step - loss: 1.0824 - acc: 0.6288\nEpoch 5/500\n792/792 [==============================] - 0s 435us/step - loss: 0.8522 - acc: 0.6907\nEpoch 6/500\n792/792 [==============================] - 0s 424us/step - loss: 0.7939 - acc: 0.7260\nEpoch 7/500\n792/792 [==============================] - 0s 434us/step - loss: 0.5987 - acc: 0.8081\nEpoch 8/500\n792/792 [==============================] - 0s 442us/step - loss: 0.4635 - acc: 0.8497\nEpoch 9/500\n792/792 [==============================] - 0s 428us/step - loss: 0.4597 - acc: 0.8371\nEpoch 10/500\n792/792 [==============================] - 0s 433us/step - loss: 0.3611 - acc: 0.8750\nEpoch 11/500\n792/792 [==============================] - 0s 442us/step - loss: 0.3228 - acc: 0.8977\nEpoch 12/500\n792/792 [==============================] - 0s 426us/step - loss: 0.2862 - acc: 0.8990\nEpoch 13/500\n792/792 [==============================] - 0s 435us/step - loss: 0.3076 - acc: 0.8914\nEpoch 14/500\n792/792 [==============================] - 0s 425us/step - loss: 0.2710 - acc: 0.9028\nEpoch 15/500\n792/792 [==============================] - 0s 423us/step - loss: 0.2371 - acc: 0.9230\nEpoch 16/500\n792/792 [==============================] - 0s 427us/step - loss: 0.1957 - acc: 0.9381\nEpoch 17/500\n792/792 [==============================] - 0s 427us/step - loss: 0.1194 - acc: 0.9646\nEpoch 18/500\n792/792 [==============================] - 0s 439us/step - loss: 0.1906 - acc: 0.9444\nEpoch 19/500\n792/792 [==============================] - 0s 438us/step - loss: 0.2385 - acc: 0.9217\nEpoch 20/500\n792/792 [==============================] - 0s 426us/step - loss: 0.1738 - acc: 0.9394\nEpoch 21/500\n792/792 [==============================] - 0s 428us/step - loss: 0.1673 - acc: 0.9457\nEpoch 22/500\n792/792 [==============================] - 0s 431us/step - loss: 0.1915 - acc: 0.9407\nEpoch 23/500\n792/792 [==============================] - 0s 430us/step - loss: 0.1439 - acc: 0.9596\nEpoch 24/500\n792/792 [==============================] - 0s 430us/step - loss: 0.1665 - acc: 0.9394\nEpoch 25/500\n792/792 [==============================] - 0s 443us/step - loss: 0.1864 - acc: 0.9381\nEpoch 26/500\n792/792 [==============================] - 0s 436us/step - loss: 0.0970 - acc: 0.9684\nEpoch 27/500\n792/792 [==============================] - 0s 433us/step - loss: 0.1522 - acc: 0.9558\nEpoch 28/500\n792/792 [==============================] - 0s 434us/step - loss: 0.1807 - acc: 0.9419\nEpoch 29/500\n792/792 [==============================] - 0s 425us/step - loss: 0.1495 - acc: 0.9596\nEpoch 30/500\n792/792 [==============================] - 0s 433us/step - loss: 0.0951 - acc: 0.9722\nEpoch 31/500\n792/792 [==============================] - 0s 431us/step - loss: 0.1128 - acc: 0.9697\nEpoch 32/500\n792/792 [==============================] - 0s 427us/step - loss: 0.1120 - acc: 0.9646\nEpoch 33/500\n792/792 [==============================] - 0s 428us/step - loss: 0.1370 - acc: 0.9571\nEpoch 34/500\n792/792 [==============================] - 0s 435us/step - loss: 0.1292 - acc: 0.9533\nEpoch 35/500\n792/792 [==============================] - 0s 434us/step - loss: 0.1619 - acc: 0.9545\nEpoch 36/500\n792/792 [==============================] - 0s 443us/step - loss: 0.0954 - acc: 0.9747\nEpoch 37/500\n792/792 [==============================] - 0s 444us/step - loss: 0.1344 - acc: 0.9520\nEpoch 38/500\n792/792 [==============================] - 0s 426us/step - loss: 0.0925 - acc: 0.9634\nEpoch 39/500\n792/792 [==============================] - 0s 442us/step - loss: 0.1174 - acc: 0.9609\nEpoch 40/500\n792/792 [==============================] - 0s 439us/step - loss: 0.1146 - acc: 0.9684\nEpoch 41/500\n792/792 [==============================] - 0s 441us/step - loss: 0.1588 - acc: 0.9646\nEpoch 42/500\n792/792 [==============================] - 0s 439us/step - loss: 0.1507 - acc: 0.9571\nEpoch 43/500\n792/792 [==============================] - 0s 425us/step - loss: 0.1188 - acc: 0.9609\nEpoch 44/500\n792/792 [==============================] - 0s 422us/step - loss: 0.0588 - acc: 0.9848\nEpoch 45/500\n792/792 [==============================] - 0s 432us/step - loss: 0.0371 - acc: 0.9886\nEpoch 46/500\n792/792 [==============================] - 0s 441us/step - loss: 0.0811 - acc: 0.9773\nEpoch 47/500\n792/792 [==============================] - 0s 423us/step - loss: 0.2411 - acc: 0.9495\nEpoch 48/500\n792/792 [==============================] - 0s 436us/step - loss: 0.1179 - acc: 0.9520\nEpoch 49/500\n792/792 [==============================] - 0s 428us/step - loss: 0.1044 - acc: 0.9710\nEpoch 50/500\n792/792 [==============================] - 0s 429us/step - loss: 0.1584 - acc: 0.9545\nEpoch 51/500\n792/792 [==============================] - 0s 435us/step - loss: 0.0880 - acc: 0.9722\nEpoch 52/500\n792/792 [==============================] - 0s 431us/step - loss: 0.0737 - acc: 0.9747\nEpoch 53/500\n792/792 [==============================] - 0s 423us/step - loss: 0.1371 - acc: 0.9583\nEpoch 54/500\n792/792 [==============================] - 0s 445us/step - loss: 0.1183 - acc: 0.9672\nEpoch 55/500\n792/792 [==============================] - 0s 428us/step - loss: 0.0731 - acc: 0.9773\nEpoch 56/500\n792/792 [==============================] - 0s 427us/step - loss: 0.0446 - acc: 0.9861\nEpoch 57/500\n792/792 [==============================] - 0s 432us/step - loss: 0.1080 - acc: 0.9634\nEpoch 58/500\n792/792 [==============================] - 0s 429us/step - loss: 0.0829 - acc: 0.9760\nEpoch 59/500\n792/792 [==============================] - 0s 419us/step - loss: 0.0863 - acc: 0.9710\nEpoch 60/500\n792/792 [==============================] - 0s 424us/step - loss: 0.1379 - acc: 0.9558\nEpoch 61/500\n792/792 [==============================] - 0s 423us/step - loss: 0.1464 - acc: 0.9583\nEpoch 62/500\n792/792 [==============================] - 0s 416us/step - loss: 0.0468 - acc: 0.9798\nEpoch 63/500\n792/792 [==============================] - 0s 428us/step - loss: 0.0543 - acc: 0.9836\nEpoch 64/500\n792/792 [==============================] - 0s 435us/step - loss: 0.1200 - acc: 0.9672\nEpoch 65/500\n792/792 [==============================] - 0s 434us/step - loss: 0.1280 - acc: 0.9634\nEpoch 66/500\n792/792 [==============================] - 0s 431us/step - loss: 0.1147 - acc: 0.9672\nEpoch 67/500\n792/792 [==============================] - 0s 432us/step - loss: 0.1146 - acc: 0.9659\nEpoch 68/500\n792/792 [==============================] - 0s 430us/step - loss: 0.0622 - acc: 0.9836\nEpoch 69/500\n792/792 [==============================] - 0s 432us/step - loss: 0.0783 - acc: 0.9811\nEpoch 70/500\n792/792 [==============================] - 0s 441us/step - loss: 0.0874 - acc: 0.9710\nEpoch 71/500\n792/792 [==============================] - 0s 429us/step - loss: 0.0516 - acc: 0.9874\nEpoch 72/500\n792/792 [==============================] - 0s 437us/step - loss: 0.0476 - acc: 0.9861\nEpoch 73/500\n792/792 [==============================] - 0s 439us/step - loss: 0.0323 - acc: 0.9874\nEpoch 74/500\n792/792 [==============================] - 0s 443us/step - loss: 0.1185 - acc: 0.9697\nEpoch 75/500\n792/792 [==============================] - 0s 436us/step - loss: 0.1037 - acc: 0.9697\nEpoch 76/500\n792/792 [==============================] - 0s 433us/step - loss: 0.1333 - acc: 0.9672\nEpoch 77/500\n792/792 [==============================] - 0s 437us/step - loss: 0.0829 - acc: 0.9747\nEpoch 78/500\n792/792 [==============================] - 0s 428us/step - loss: 0.1146 - acc: 0.9710\nEpoch 79/500\n792/792 [==============================] - 0s 423us/step - loss: 0.0986 - acc: 0.9722\nEpoch 80/500\n792/792 [==============================] - 0s 441us/step - loss: 0.1032 - acc: 0.9659\nEpoch 81/500\n792/792 [==============================] - 0s 428us/step - loss: 0.0700 - acc: 0.9798\nEpoch 82/500\n792/792 [==============================] - 0s 420us/step - loss: 0.1024 - acc: 0.9697\nEpoch 83/500\n792/792 [==============================] - 0s 458us/step - loss: 0.1951 - acc: 0.9558\nEpoch 84/500\n792/792 [==============================] - 0s 438us/step - loss: 0.1123 - acc: 0.9659\nEpoch 85/500\n792/792 [==============================] - 0s 427us/step - loss: 0.0533 - acc: 0.9773\nEpoch 86/500\n792/792 [==============================] - 0s 439us/step - loss: 0.1151 - acc: 0.9684\nEpoch 87/500\n792/792 [==============================] - 0s 421us/step - loss: 0.0839 - acc: 0.9760\nEpoch 88/500\n792/792 [==============================] - 0s 434us/step - loss: 0.0513 - acc: 0.9836\nEpoch 89/500\n792/792 [==============================] - 0s 432us/step - loss: 0.0320 - acc: 0.9912\nEpoch 90/500\n792/792 [==============================] - 0s 428us/step - loss: 0.0834 - acc: 0.9735\nEpoch 91/500\n792/792 [==============================] - 0s 427us/step - loss: 0.0929 - acc: 0.9785\nEpoch 92/500\n792/792 [==============================] - 0s 446us/step - loss: 0.0611 - acc: 0.9798\nEpoch 93/500\n792/792 [==============================] - 0s 436us/step - loss: 0.0377 - acc: 0.9861\nEpoch 94/500\n792/792 [==============================] - 0s 429us/step - loss: 0.0789 - acc: 0.9773\nEpoch 95/500\n792/792 [==============================] - 0s 435us/step - loss: 0.0793 - acc: 0.9798\nEpoch 96/500\n792/792 [==============================] - 0s 430us/step - loss: 0.0705 - acc: 0.9861\nEpoch 97/500\n792/792 [==============================] - 0s 427us/step - loss: 0.1420 - acc: 0.9596\nEpoch 98/500\n792/792 [==============================] - 0s 445us/step - loss: 0.0316 - acc: 0.9874\nEpoch 99/500\n792/792 [==============================] - 0s 440us/step - loss: 0.0435 - acc: 0.9886\nEpoch 100/500\n792/792 [==============================] - 0s 434us/step - loss: 0.0973 - acc: 0.9811\nEpoch 101/500\n792/792 [==============================] - 0s 433us/step - loss: 0.0537 - acc: 0.9874\nEpoch 102/500\n792/792 [==============================] - 0s 419us/step - loss: 0.0470 - acc: 0.9874\nEpoch 103/500\n792/792 [==============================] - 0s 426us/step - loss: 0.0316 - acc: 0.9899\nEpoch 104/500\n792/792 [==============================] - 0s 434us/step - loss: 0.0976 - acc: 0.9747\nEpoch 105/500\n792/792 [==============================] - 0s 418us/step - loss: 0.0616 - acc: 0.9760\nEpoch 106/500\n792/792 [==============================] - 0s 432us/step - loss: 0.0806 - acc: 0.9773\nEpoch 107/500\n792/792 [==============================] - 0s 428us/step - loss: 0.1590 - acc: 0.9672\nEpoch 108/500\n792/792 [==============================] - 0s 420us/step - loss: 0.0576 - acc: 0.9785\nEpoch 109/500\n792/792 [==============================] - 0s 433us/step - loss: 0.0342 - acc: 0.9861\nEpoch 110/500\n792/792 [==============================] - 0s 428us/step - loss: 0.0503 - acc: 0.9874\nEpoch 111/500\n792/792 [==============================] - 0s 413us/step - loss: 0.1174 - acc: 0.9710\nEpoch 112/500\n792/792 [==============================] - 0s 424us/step - loss: 0.0990 - acc: 0.9697\nEpoch 113/500\n792/792 [==============================] - 0s 429us/step - loss: 0.1240 - acc: 0.9747\nEpoch 114/500\n792/792 [==============================] - 0s 423us/step - loss: 0.0170 - acc: 0.9937\nEpoch 115/500\n792/792 [==============================] - 0s 430us/step - loss: 0.0458 - acc: 0.9886\nEpoch 116/500\n792/792 [==============================] - 0s 423us/step - loss: 0.0771 - acc: 0.9722\nEpoch 117/500\n792/792 [==============================] - 0s 425us/step - loss: 0.0476 - acc: 0.9798\nEpoch 118/500\n792/792 [==============================] - 0s 422us/step - loss: 0.0346 - acc: 0.9874\nEpoch 119/500\n792/792 [==============================] - 0s 427us/step - loss: 0.0735 - acc: 0.9798\nEpoch 120/500\n792/792 [==============================] - 0s 420us/step - loss: 0.0164 - acc: 0.9949\nEpoch 121/500\n792/792 [==============================] - 0s 425us/step - loss: 0.0493 - acc: 0.9848\nEpoch 122/500\n792/792 [==============================] - 0s 434us/step - loss: 0.0672 - acc: 0.9848\nEpoch 123/500\n792/792 [==============================] - 0s 430us/step - loss: 0.0758 - acc: 0.9773\nEpoch 124/500\n792/792 [==============================] - 0s 441us/step - loss: 0.0873 - acc: 0.9823\nEpoch 125/500\n792/792 [==============================] - 0s 426us/step - loss: 0.1215 - acc: 0.9684\nEpoch 126/500\n792/792 [==============================] - 0s 431us/step - loss: 0.0322 - acc: 0.9811\nEpoch 127/500\n792/792 [==============================] - 0s 430us/step - loss: 0.0960 - acc: 0.9798\nEpoch 128/500\n792/792 [==============================] - 0s 435us/step - loss: 0.1371 - acc: 0.9710\nEpoch 129/500\n792/792 [==============================] - 0s 426us/step - loss: 0.0552 - acc: 0.9811\nEpoch 130/500\n792/792 [==============================] - 0s 428us/step - loss: 0.0901 - acc: 0.9760\nEpoch 131/500\n792/792 [==============================] - 0s 426us/step - loss: 0.0441 - acc: 0.9886\nEpoch 132/500\n792/792 [==============================] - 0s 422us/step - loss: 0.0494 - acc: 0.9886\nEpoch 133/500\n792/792 [==============================] - 0s 433us/step - loss: 0.0528 - acc: 0.9848\nEpoch 134/500\n792/792 [==============================] - 0s 420us/step - loss: 0.0846 - acc: 0.9747\nEpoch 135/500\n792/792 [==============================] - 0s 422us/step - loss: 0.0834 - acc: 0.9785\nEpoch 136/500\n792/792 [==============================] - 0s 433us/step - loss: 0.0745 - acc: 0.9785\nEpoch 137/500\n792/792 [==============================] - 0s 434us/step - loss: 0.0544 - acc: 0.9836\nEpoch 138/500\n792/792 [==============================] - 0s 419us/step - loss: 0.0951 - acc: 0.9735\nEpoch 139/500\n792/792 [==============================] - 0s 419us/step - loss: 0.0888 - acc: 0.9735\nEpoch 140/500\n792/792 [==============================] - 0s 419us/step - loss: 0.0787 - acc: 0.9836\nEpoch 141/500\n792/792 [==============================] - 0s 427us/step - loss: 0.0961 - acc: 0.9697\nEpoch 142/500\n792/792 [==============================] - 0s 431us/step - loss: 0.0738 - acc: 0.9773\nEpoch 143/500\n792/792 [==============================] - 0s 421us/step - loss: 0.0919 - acc: 0.9798\nEpoch 144/500\n792/792 [==============================] - 0s 417us/step - loss: 0.0651 - acc: 0.9785\nEpoch 145/500\n792/792 [==============================] - 0s 442us/step - loss: 0.0832 - acc: 0.9798\nEpoch 146/500\n792/792 [==============================] - 0s 421us/step - loss: 0.0950 - acc: 0.9722\nEpoch 147/500\n792/792 [==============================] - 0s 420us/step - loss: 0.1200 - acc: 0.9735\nEpoch 148/500\n792/792 [==============================] - 0s 425us/step - loss: 0.0866 - acc: 0.9823\nEpoch 149/500\n792/792 [==============================] - 0s 416us/step - loss: 0.0500 - acc: 0.9836\nEpoch 150/500\n792/792 [==============================] - 0s 430us/step - loss: 0.0969 - acc: 0.9747\nEpoch 151/500\n792/792 [==============================] - 0s 421us/step - loss: 0.0729 - acc: 0.9798\nEpoch 152/500\n792/792 [==============================] - 0s 424us/step - loss: 0.1265 - acc: 0.9735\nEpoch 153/500\n792/792 [==============================] - 0s 421us/step - loss: 0.0504 - acc: 0.9874\nEpoch 154/500\n792/792 [==============================] - 0s 425us/step - loss: 0.0513 - acc: 0.9823\nEpoch 155/500\n792/792 [==============================] - 0s 423us/step - loss: 0.0259 - acc: 0.9937\nEpoch 156/500\n792/792 [==============================] - 0s 441us/step - loss: 0.0560 - acc: 0.9811\nEpoch 157/500\n792/792 [==============================] - 0s 433us/step - loss: 0.1338 - acc: 0.9760\nEpoch 158/500\n792/792 [==============================] - 0s 425us/step - loss: 0.0360 - acc: 0.9886\nEpoch 159/500\n792/792 [==============================] - 0s 420us/step - loss: 0.0274 - acc: 0.9937\nEpoch 160/500\n792/792 [==============================] - 0s 418us/step - loss: 0.0158 - acc: 0.9937\nEpoch 161/500\n792/792 [==============================] - 0s 416us/step - loss: 0.0293 - acc: 0.9924\nEpoch 162/500\n792/792 [==============================] - 0s 426us/step - loss: 0.0951 - acc: 0.9836\nEpoch 163/500\n792/792 [==============================] - 0s 440us/step - loss: 0.0425 - acc: 0.9874\nEpoch 164/500\n792/792 [==============================] - 0s 429us/step - loss: 0.0362 - acc: 0.9874\nEpoch 165/500\n"
        },
        {
          "name": "stdout",
          "output_type": "stream",
          "text": "792/792 [==============================] - 0s 432us/step - loss: 0.0649 - acc: 0.9861\nEpoch 166/500\n792/792 [==============================] - 0s 426us/step - loss: 0.1199 - acc: 0.9722\nEpoch 167/500\n792/792 [==============================] - 0s 411us/step - loss: 0.0527 - acc: 0.9836\nEpoch 168/500\n792/792 [==============================] - 0s 427us/step - loss: 0.0611 - acc: 0.9861\nEpoch 169/500\n792/792 [==============================] - 0s 430us/step - loss: 0.0683 - acc: 0.9823\nEpoch 170/500\n792/792 [==============================] - 0s 427us/step - loss: 0.0448 - acc: 0.9874\nEpoch 171/500\n792/792 [==============================] - 0s 421us/step - loss: 0.0645 - acc: 0.9861\nEpoch 172/500\n792/792 [==============================] - 0s 431us/step - loss: 0.0742 - acc: 0.9874\nEpoch 173/500\n792/792 [==============================] - 0s 428us/step - loss: 0.0924 - acc: 0.9747\nEpoch 174/500\n792/792 [==============================] - 0s 419us/step - loss: 0.2013 - acc: 0.9596\nEpoch 175/500\n792/792 [==============================] - 0s 423us/step - loss: 0.0963 - acc: 0.9760\nEpoch 176/500\n792/792 [==============================] - 0s 417us/step - loss: 0.0783 - acc: 0.9836\nEpoch 177/500\n792/792 [==============================] - 0s 428us/step - loss: 0.1006 - acc: 0.9773\nEpoch 178/500\n792/792 [==============================] - 0s 416us/step - loss: 0.0649 - acc: 0.9874\nEpoch 179/500\n792/792 [==============================] - 0s 426us/step - loss: 0.0708 - acc: 0.9811\nEpoch 180/500\n792/792 [==============================] - 0s 426us/step - loss: 0.0379 - acc: 0.9848\nEpoch 181/500\n792/792 [==============================] - 0s 430us/step - loss: 0.0282 - acc: 0.9912\nEpoch 182/500\n792/792 [==============================] - 0s 424us/step - loss: 0.0565 - acc: 0.9823\nEpoch 183/500\n792/792 [==============================] - 0s 441us/step - loss: 0.0569 - acc: 0.9836\nEpoch 184/500\n792/792 [==============================] - 0s 439us/step - loss: 0.0523 - acc: 0.9874\nEpoch 185/500\n792/792 [==============================] - 0s 431us/step - loss: 0.0350 - acc: 0.9823\nEpoch 186/500\n792/792 [==============================] - 0s 433us/step - loss: 0.0184 - acc: 0.9937\nEpoch 187/500\n792/792 [==============================] - 0s 430us/step - loss: 0.0472 - acc: 0.9912\nEpoch 188/500\n792/792 [==============================] - 0s 431us/step - loss: 0.1438 - acc: 0.9722\nEpoch 189/500\n792/792 [==============================] - 0s 439us/step - loss: 0.0760 - acc: 0.9773\nEpoch 190/500\n792/792 [==============================] - 0s 424us/step - loss: 0.1403 - acc: 0.9747\nEpoch 191/500\n792/792 [==============================] - 0s 429us/step - loss: 0.0880 - acc: 0.9823\nEpoch 192/500\n792/792 [==============================] - 0s 435us/step - loss: 0.1082 - acc: 0.9760\nEpoch 193/500\n792/792 [==============================] - 0s 424us/step - loss: 0.0623 - acc: 0.9912\nEpoch 194/500\n792/792 [==============================] - 0s 427us/step - loss: 0.0550 - acc: 0.9861\nEpoch 195/500\n792/792 [==============================] - 0s 427us/step - loss: 0.0718 - acc: 0.9823\nEpoch 196/500\n792/792 [==============================] - 0s 426us/step - loss: 0.0202 - acc: 0.9937\nEpoch 197/500\n792/792 [==============================] - 0s 424us/step - loss: 0.0577 - acc: 0.9836\nEpoch 198/500\n792/792 [==============================] - 0s 427us/step - loss: 0.0434 - acc: 0.9899\nEpoch 199/500\n792/792 [==============================] - 0s 433us/step - loss: 0.1089 - acc: 0.9836\nEpoch 200/500\n792/792 [==============================] - 0s 438us/step - loss: 0.0609 - acc: 0.9836\nEpoch 201/500\n792/792 [==============================] - 0s 437us/step - loss: 0.0508 - acc: 0.9848\nEpoch 202/500\n792/792 [==============================] - 0s 434us/step - loss: 0.0628 - acc: 0.9924\nEpoch 203/500\n792/792 [==============================] - 0s 447us/step - loss: 0.1347 - acc: 0.9848\nEpoch 204/500\n792/792 [==============================] - 0s 446us/step - loss: 0.1422 - acc: 0.9722\nEpoch 205/500\n792/792 [==============================] - 0s 431us/step - loss: 0.0539 - acc: 0.9848\nEpoch 206/500\n792/792 [==============================] - 0s 430us/step - loss: 0.0579 - acc: 0.9874\nEpoch 207/500\n792/792 [==============================] - 0s 430us/step - loss: 0.0505 - acc: 0.9912\nEpoch 208/500\n792/792 [==============================] - 0s 427us/step - loss: 0.0992 - acc: 0.9874\nEpoch 209/500\n792/792 [==============================] - 0s 433us/step - loss: 0.0452 - acc: 0.9874\nEpoch 210/500\n792/792 [==============================] - 0s 439us/step - loss: 0.0392 - acc: 0.9874\nEpoch 211/500\n792/792 [==============================] - 0s 425us/step - loss: 0.0161 - acc: 0.9949\nEpoch 212/500\n792/792 [==============================] - 0s 441us/step - loss: 0.0421 - acc: 0.9912\nEpoch 213/500\n792/792 [==============================] - 0s 433us/step - loss: 0.0819 - acc: 0.9836\nEpoch 214/500\n792/792 [==============================] - 0s 431us/step - loss: 0.0766 - acc: 0.9823\nEpoch 215/500\n792/792 [==============================] - 0s 442us/step - loss: 0.0501 - acc: 0.9836\nEpoch 216/500\n792/792 [==============================] - 0s 435us/step - loss: 0.1222 - acc: 0.9811\nEpoch 217/500\n792/792 [==============================] - 0s 428us/step - loss: 0.1264 - acc: 0.9811\nEpoch 218/500\n792/792 [==============================] - 0s 436us/step - loss: 0.0918 - acc: 0.9773\nEpoch 219/500\n792/792 [==============================] - 0s 428us/step - loss: 0.0863 - acc: 0.9811\nEpoch 220/500\n792/792 [==============================] - 0s 421us/step - loss: 0.1564 - acc: 0.9773\nEpoch 221/500\n792/792 [==============================] - 0s 428us/step - loss: 0.0548 - acc: 0.9874\nEpoch 222/500\n792/792 [==============================] - 0s 426us/step - loss: 0.0552 - acc: 0.9861\nEpoch 223/500\n792/792 [==============================] - 0s 417us/step - loss: 0.0567 - acc: 0.9886\nEpoch 224/500\n792/792 [==============================] - 0s 429us/step - loss: 0.0483 - acc: 0.9874\nEpoch 225/500\n792/792 [==============================] - 0s 421us/step - loss: 0.0683 - acc: 0.9836\nEpoch 226/500\n792/792 [==============================] - 0s 418us/step - loss: 0.1504 - acc: 0.9773\nEpoch 227/500\n792/792 [==============================] - 0s 434us/step - loss: 0.0390 - acc: 0.9861\nEpoch 228/500\n792/792 [==============================] - 0s 426us/step - loss: 0.0779 - acc: 0.9861\nEpoch 229/500\n792/792 [==============================] - 0s 418us/step - loss: 0.0644 - acc: 0.9861\nEpoch 230/500\n792/792 [==============================] - 0s 424us/step - loss: 0.1022 - acc: 0.9773\nEpoch 231/500\n792/792 [==============================] - 0s 426us/step - loss: 0.0844 - acc: 0.9823\nEpoch 232/500\n792/792 [==============================] - 0s 423us/step - loss: 0.0681 - acc: 0.9874\nEpoch 233/500\n792/792 [==============================] - 0s 438us/step - loss: 0.0595 - acc: 0.9874\nEpoch 234/500\n792/792 [==============================] - 0s 431us/step - loss: 0.0437 - acc: 0.9899\nEpoch 235/500\n792/792 [==============================] - 0s 428us/step - loss: 0.0249 - acc: 0.9962\nEpoch 236/500\n792/792 [==============================] - 0s 434us/step - loss: 0.0756 - acc: 0.9823\nEpoch 237/500\n792/792 [==============================] - 0s 419us/step - loss: 0.0744 - acc: 0.9836\nEpoch 238/500\n792/792 [==============================] - 0s 419us/step - loss: 0.0180 - acc: 0.9924\nEpoch 239/500\n792/792 [==============================] - 0s 429us/step - loss: 0.0564 - acc: 0.9874\nEpoch 240/500\n792/792 [==============================] - 0s 423us/step - loss: 0.0303 - acc: 0.9912\nEpoch 241/500\n792/792 [==============================] - 0s 430us/step - loss: 0.0648 - acc: 0.9836\nEpoch 242/500\n792/792 [==============================] - 0s 436us/step - loss: 0.0695 - acc: 0.9848\nEpoch 243/500\n792/792 [==============================] - 0s 435us/step - loss: 0.0228 - acc: 0.9937\nEpoch 244/500\n792/792 [==============================] - 0s 429us/step - loss: 0.0959 - acc: 0.9785\nEpoch 245/500\n792/792 [==============================] - 0s 437us/step - loss: 0.0490 - acc: 0.9874\nEpoch 246/500\n792/792 [==============================] - 0s 425us/step - loss: 0.0531 - acc: 0.9912\nEpoch 247/500\n"
        },
        {
          "name": "stdout",
          "output_type": "stream",
          "text": "792/792 [==============================] - 0s 433us/step - loss: 0.0726 - acc: 0.9874\nEpoch 248/500\n792/792 [==============================] - 0s 433us/step - loss: 0.1352 - acc: 0.9710\nEpoch 249/500\n792/792 [==============================] - 0s 427us/step - loss: 0.0889 - acc: 0.9886\nEpoch 250/500\n792/792 [==============================] - 0s 432us/step - loss: 0.1003 - acc: 0.9785\nEpoch 251/500\n792/792 [==============================] - 0s 435us/step - loss: 0.1232 - acc: 0.9836\nEpoch 252/500\n792/792 [==============================] - 0s 429us/step - loss: 0.0551 - acc: 0.9874\nEpoch 253/500\n792/792 [==============================] - 0s 422us/step - loss: 0.1171 - acc: 0.9836\nEpoch 254/500\n792/792 [==============================] - 0s 439us/step - loss: 0.0738 - acc: 0.9811\nEpoch 255/500\n792/792 [==============================] - 0s 432us/step - loss: 0.1254 - acc: 0.9798\nEpoch 256/500\n792/792 [==============================] - 0s 428us/step - loss: 0.0716 - acc: 0.9823\nEpoch 257/500\n792/792 [==============================] - 0s 431us/step - loss: 0.0920 - acc: 0.9861\nEpoch 258/500\n792/792 [==============================] - 0s 420us/step - loss: 0.0561 - acc: 0.9886\nEpoch 259/500\n792/792 [==============================] - 0s 415us/step - loss: 0.1347 - acc: 0.9785\nEpoch 260/500\n792/792 [==============================] - 0s 436us/step - loss: 0.0948 - acc: 0.9861\nEpoch 261/500\n792/792 [==============================] - 0s 428us/step - loss: 0.0643 - acc: 0.9899\nEpoch 262/500\n792/792 [==============================] - 0s 435us/step - loss: 0.0420 - acc: 0.9899\nEpoch 263/500\n792/792 [==============================] - 0s 436us/step - loss: 0.0743 - acc: 0.9848\nEpoch 264/500\n792/792 [==============================] - 0s 413us/step - loss: 0.0597 - acc: 0.9823\nEpoch 265/500\n792/792 [==============================] - 0s 429us/step - loss: 0.0192 - acc: 0.9924\nEpoch 266/500\n792/792 [==============================] - 0s 432us/step - loss: 0.0504 - acc: 0.9924\nEpoch 267/500\n792/792 [==============================] - 0s 424us/step - loss: 0.0913 - acc: 0.9823\nEpoch 268/500\n792/792 [==============================] - 0s 431us/step - loss: 0.0315 - acc: 0.9924\nEpoch 269/500\n792/792 [==============================] - 0s 415us/step - loss: 0.0318 - acc: 0.9962\nEpoch 270/500\n792/792 [==============================] - 0s 420us/step - loss: 0.0276 - acc: 0.9937\nEpoch 271/500\n792/792 [==============================] - 0s 426us/step - loss: 0.0285 - acc: 0.9949\nEpoch 272/500\n792/792 [==============================] - 0s 427us/step - loss: 0.0040 - acc: 0.9975\nEpoch 273/500\n792/792 [==============================] - 0s 434us/step - loss: 0.0564 - acc: 0.9924\nEpoch 274/500\n792/792 [==============================] - 0s 441us/step - loss: 0.0387 - acc: 0.9912\nEpoch 275/500\n792/792 [==============================] - 0s 431us/step - loss: 0.1068 - acc: 0.9811\nEpoch 276/500\n792/792 [==============================] - 0s 427us/step - loss: 0.1093 - acc: 0.9798\nEpoch 277/500\n792/792 [==============================] - 0s 434us/step - loss: 0.1388 - acc: 0.9785\nEpoch 278/500\n792/792 [==============================] - 0s 418us/step - loss: 0.0617 - acc: 0.9811\nEpoch 279/500\n792/792 [==============================] - 0s 425us/step - loss: 0.1232 - acc: 0.9785\nEpoch 280/500\n792/792 [==============================] - 0s 426us/step - loss: 0.0811 - acc: 0.9848\nEpoch 281/500\n792/792 [==============================] - 0s 416us/step - loss: 0.0107 - acc: 0.9975\nEpoch 282/500\n792/792 [==============================] - 0s 420us/step - loss: 0.0354 - acc: 0.9924\nEpoch 283/500\n792/792 [==============================] - 0s 427us/step - loss: 0.0940 - acc: 0.9785\nEpoch 284/500\n792/792 [==============================] - 0s 425us/step - loss: 0.0642 - acc: 0.9874\nEpoch 285/500\n792/792 [==============================] - 0s 424us/step - loss: 0.0230 - acc: 0.9949\nEpoch 286/500\n792/792 [==============================] - 0s 420us/step - loss: 0.0420 - acc: 0.9912\nEpoch 287/500\n792/792 [==============================] - 0s 430us/step - loss: 0.0818 - acc: 0.9836\nEpoch 288/500\n792/792 [==============================] - 0s 431us/step - loss: 0.1236 - acc: 0.9811\nEpoch 289/500\n792/792 [==============================] - 0s 434us/step - loss: 0.0524 - acc: 0.9848\nEpoch 290/500\n792/792 [==============================] - 0s 424us/step - loss: 0.0476 - acc: 0.9836\nEpoch 291/500\n792/792 [==============================] - 0s 426us/step - loss: 0.0166 - acc: 0.9924\nEpoch 292/500\n792/792 [==============================] - 0s 439us/step - loss: 0.1083 - acc: 0.9798\nEpoch 293/500\n792/792 [==============================] - 0s 427us/step - loss: 0.0659 - acc: 0.9823\nEpoch 294/500\n792/792 [==============================] - 0s 430us/step - loss: 0.1378 - acc: 0.9811\nEpoch 295/500\n792/792 [==============================] - 0s 440us/step - loss: 0.0983 - acc: 0.9836\nEpoch 296/500\n792/792 [==============================] - 0s 424us/step - loss: 0.0600 - acc: 0.9899\nEpoch 297/500\n792/792 [==============================] - 0s 430us/step - loss: 0.0132 - acc: 0.9962\nEpoch 298/500\n792/792 [==============================] - 0s 437us/step - loss: 0.1049 - acc: 0.9886\nEpoch 299/500\n792/792 [==============================] - 0s 427us/step - loss: 0.0797 - acc: 0.9861\nEpoch 300/500\n792/792 [==============================] - 0s 427us/step - loss: 0.1547 - acc: 0.9811\nEpoch 301/500\n792/792 [==============================] - 0s 434us/step - loss: 0.0547 - acc: 0.9886\nEpoch 302/500\n792/792 [==============================] - 0s 424us/step - loss: 0.0406 - acc: 0.9899\nEpoch 303/500\n792/792 [==============================] - 0s 428us/step - loss: 0.0570 - acc: 0.9861\nEpoch 304/500\n792/792 [==============================] - 0s 434us/step - loss: 0.0450 - acc: 0.9874\nEpoch 305/500\n792/792 [==============================] - 0s 427us/step - loss: 0.0190 - acc: 0.9937\nEpoch 306/500\n792/792 [==============================] - 0s 438us/step - loss: 0.0356 - acc: 0.9924\nEpoch 307/500\n792/792 [==============================] - 0s 437us/step - loss: 0.0571 - acc: 0.9848\nEpoch 308/500\n792/792 [==============================] - 0s 430us/step - loss: 0.0519 - acc: 0.9899\nEpoch 309/500\n792/792 [==============================] - 0s 431us/step - loss: 0.1127 - acc: 0.9811\nEpoch 310/500\n792/792 [==============================] - 0s 439us/step - loss: 0.0646 - acc: 0.9924\nEpoch 311/500\n792/792 [==============================] - 0s 422us/step - loss: 0.0813 - acc: 0.9861\nEpoch 312/500\n792/792 [==============================] - 0s 434us/step - loss: 0.0509 - acc: 0.9924\nEpoch 313/500\n792/792 [==============================] - 0s 428us/step - loss: 0.0801 - acc: 0.9861\nEpoch 314/500\n792/792 [==============================] - 0s 422us/step - loss: 0.1429 - acc: 0.9836\nEpoch 315/500\n792/792 [==============================] - 0s 436us/step - loss: 0.0696 - acc: 0.9874\nEpoch 316/500\n792/792 [==============================] - 0s 426us/step - loss: 0.0629 - acc: 0.9899\nEpoch 317/500\n792/792 [==============================] - 0s 430us/step - loss: 0.0554 - acc: 0.9899\nEpoch 318/500\n792/792 [==============================] - 0s 440us/step - loss: 0.1725 - acc: 0.9672\nEpoch 319/500\n792/792 [==============================] - 0s 432us/step - loss: 0.0651 - acc: 0.9886\nEpoch 320/500\n792/792 [==============================] - 0s 423us/step - loss: 0.0702 - acc: 0.9886\nEpoch 321/500\n792/792 [==============================] - 0s 440us/step - loss: 0.0853 - acc: 0.9874\nEpoch 322/500\n792/792 [==============================] - 0s 438us/step - loss: 0.0805 - acc: 0.9912\nEpoch 323/500\n792/792 [==============================] - 0s 430us/step - loss: 0.1144 - acc: 0.9836\nEpoch 324/500\n792/792 [==============================] - 0s 432us/step - loss: 0.0934 - acc: 0.9848\nEpoch 325/500\n792/792 [==============================] - 0s 428us/step - loss: 0.0561 - acc: 0.9861\nEpoch 326/500\n792/792 [==============================] - 0s 424us/step - loss: 0.0468 - acc: 0.9836\nEpoch 327/500\n792/792 [==============================] - 0s 441us/step - loss: 0.0645 - acc: 0.9861\nEpoch 328/500\n792/792 [==============================] - 0s 429us/step - loss: 0.0308 - acc: 0.9949\nEpoch 329/500\n"
        },
        {
          "name": "stdout",
          "output_type": "stream",
          "text": "792/792 [==============================] - 0s 485us/step - loss: 0.0559 - acc: 0.9937\nEpoch 330/500\n792/792 [==============================] - 0s 441us/step - loss: 0.0162 - acc: 0.9949\nEpoch 331/500\n792/792 [==============================] - 0s 433us/step - loss: 0.0362 - acc: 0.9937\nEpoch 332/500\n792/792 [==============================] - 0s 439us/step - loss: 0.0813 - acc: 0.9785\nEpoch 333/500\n792/792 [==============================] - 0s 442us/step - loss: 0.1188 - acc: 0.9848\nEpoch 334/500\n792/792 [==============================] - 0s 436us/step - loss: 0.1678 - acc: 0.9747\nEpoch 335/500\n792/792 [==============================] - 0s 445us/step - loss: 0.1272 - acc: 0.9836\nEpoch 336/500\n792/792 [==============================] - 0s 443us/step - loss: 0.1411 - acc: 0.9773TA: 0s - loss: 0.1090 - acc: 0.\nEpoch 337/500\n792/792 [==============================] - 0s 424us/step - loss: 0.0672 - acc: 0.9848\nEpoch 338/500\n792/792 [==============================] - 0s 428us/step - loss: 0.0538 - acc: 0.9924\nEpoch 339/500\n792/792 [==============================] - 0s 427us/step - loss: 0.0514 - acc: 0.9899\nEpoch 340/500\n792/792 [==============================] - 0s 421us/step - loss: 0.0787 - acc: 0.9874\nEpoch 341/500\n792/792 [==============================] - 0s 430us/step - loss: 0.1349 - acc: 0.9836\nEpoch 342/500\n792/792 [==============================] - 0s 431us/step - loss: 0.0501 - acc: 0.9937\nEpoch 343/500\n792/792 [==============================] - 0s 424us/step - loss: 0.0668 - acc: 0.9848\nEpoch 344/500\n792/792 [==============================] - 0s 438us/step - loss: 0.0839 - acc: 0.9899\nEpoch 345/500\n792/792 [==============================] - 0s 423us/step - loss: 0.0944 - acc: 0.9823\nEpoch 346/500\n792/792 [==============================] - 0s 414us/step - loss: 0.0934 - acc: 0.9811\nEpoch 347/500\n792/792 [==============================] - 0s 437us/step - loss: 0.1079 - acc: 0.9811\nEpoch 348/500\n792/792 [==============================] - 0s 431us/step - loss: 0.1059 - acc: 0.9798\nEpoch 349/500\n792/792 [==============================] - 0s 429us/step - loss: 0.0553 - acc: 0.9874\nEpoch 350/500\n792/792 [==============================] - 0s 436us/step - loss: 0.0630 - acc: 0.9874\nEpoch 351/500\n792/792 [==============================] - 0s 424us/step - loss: 0.0106 - acc: 0.9962\nEpoch 352/500\n792/792 [==============================] - 0s 418us/step - loss: 0.0148 - acc: 0.9949\nEpoch 353/500\n792/792 [==============================] - 0s 439us/step - loss: 0.0571 - acc: 0.9886\nEpoch 354/500\n792/792 [==============================] - 0s 423us/step - loss: 0.0637 - acc: 0.9912\nEpoch 355/500\n792/792 [==============================] - 0s 431us/step - loss: 0.0726 - acc: 0.9874\nEpoch 356/500\n792/792 [==============================] - 0s 424us/step - loss: 0.1275 - acc: 0.9823\nEpoch 357/500\n792/792 [==============================] - 0s 422us/step - loss: 0.0620 - acc: 0.9874\nEpoch 358/500\n792/792 [==============================] - 0s 419us/step - loss: 0.0850 - acc: 0.9886\nEpoch 359/500\n792/792 [==============================] - 0s 445us/step - loss: 0.0656 - acc: 0.9861\nEpoch 360/500\n792/792 [==============================] - 0s 425us/step - loss: 0.1458 - acc: 0.9823\nEpoch 361/500\n792/792 [==============================] - 0s 431us/step - loss: 0.0947 - acc: 0.9861\nEpoch 362/500\n  5/792 [..............................] - ETA: 0s - loss: 0.0017 - acc: 1.0000"
        }
      ]
    },
    {
      "metadata": {
        "collapsed": true,
        "trusted": false,
        "_uuid": "8bb9824f0455e2d781cf63185aae45d220683618"
      },
      "cell_type": "code",
      "source": "preds = classifier.predict(sc_X.transform(testData))",
      "execution_count": 21,
      "outputs": []
    },
    {
      "metadata": {
        "trusted": false,
        "_uuid": "b3f32cc9e385a8bf3c28fb19faf283baeffd51bf"
      },
      "cell_type": "code",
      "source": "np.sum(preds[0])",
      "execution_count": 39,
      "outputs": [
        {
          "data": {},
          "execution_count": 39,
          "metadata": {},
          "output_type": "execute_result"
        }
      ]
    },
    {
      "metadata": {
        "trusted": false,
        "_uuid": "0adb348b0c73524d1905ec7c16984b4039950c58"
      },
      "cell_type": "code",
      "source": "preds.shape",
      "execution_count": 40,
      "outputs": [
        {
          "data": {},
          "execution_count": 40,
          "metadata": {},
          "output_type": "execute_result"
        }
      ]
    },
    {
      "metadata": {
        "trusted": false,
        "_uuid": "c06ebb8de68d650c0e7559a48c6078fdb896be0f"
      },
      "cell_type": "code",
      "source": "classifier.evaluate(X_test,y_test)[1]",
      "execution_count": 24,
      "outputs": [
        {
          "data": {},
          "execution_count": 24,
          "metadata": {},
          "output_type": "execute_result"
        }
      ]
    },
    {
      "metadata": {
        "collapsed": true,
        "trusted": false,
        "_uuid": "efb3d477994835df24469df2ca5a2bae653c2019"
      },
      "cell_type": "code",
      "source": "print ( str(classifier.metrics_names[1]) + \":\" + str(classifier.evaluate(X_test,y_test)[1] * 100) + \"%\" )",
      "execution_count": 26,
      "outputs": []
    },
    {
      "metadata": {
        "trusted": false,
        "_uuid": "f0805d83f0a37af1f7484e2e8166bb5fbbd3c206"
      },
      "cell_type": "code",
      "source": "type(preds)",
      "execution_count": 42,
      "outputs": [
        {
          "data": {},
          "execution_count": 42,
          "metadata": {},
          "output_type": "execute_result"
        }
      ]
    },
    {
      "metadata": {
        "collapsed": true,
        "trusted": false,
        "_uuid": "6df9225c02c030c3f36508ad54193de2834d5e71"
      },
      "cell_type": "code",
      "source": "df1 = pd.DataFrame(preds,columns=species)",
      "execution_count": 27,
      "outputs": []
    },
    {
      "metadata": {
        "trusted": false,
        "_uuid": "dc3c76f26679105aaf46214b81d4e0dd6abf4389"
      },
      "cell_type": "code",
      "source": "df1.shape",
      "execution_count": 44,
      "outputs": [
        {
          "data": {},
          "execution_count": 44,
          "metadata": {},
          "output_type": "execute_result"
        }
      ]
    },
    {
      "metadata": {
        "collapsed": true,
        "trusted": false,
        "_uuid": "c43577f241c9e86ee610a72b1212b0b4d11686b1"
      },
      "cell_type": "code",
      "source": "testData1 = pd.read_csv('../input/test.csv')",
      "execution_count": 28,
      "outputs": []
    },
    {
      "metadata": {
        "collapsed": true,
        "trusted": false,
        "_uuid": "e35e5198de7d884e0e4351fae5edd88b6d61a599"
      },
      "cell_type": "code",
      "source": "df2 = pd.DataFrame(testData1[\"id\"],columns=[\"id\"])",
      "execution_count": 29,
      "outputs": []
    },
    {
      "metadata": {
        "trusted": false,
        "_uuid": "dd08a7587fde51310751c336f87863afbcac588e"
      },
      "cell_type": "code",
      "source": "df2.shape",
      "execution_count": 30,
      "outputs": [
        {
          "data": {},
          "execution_count": 30,
          "metadata": {},
          "output_type": "execute_result"
        }
      ]
    },
    {
      "metadata": {
        "collapsed": true,
        "trusted": false,
        "_uuid": "0e6ce4fda293ff2fa1c13d4320cf6c4311c803dd"
      },
      "cell_type": "code",
      "source": "submission = pd.concat([df2[\"id\"],df1[:]],axis=1)",
      "execution_count": 31,
      "outputs": []
    },
    {
      "metadata": {
        "trusted": false,
        "_uuid": "8890b81353be8989aff23fba79e6ad8cbd78fa7d"
      },
      "cell_type": "code",
      "source": "submission.tail()",
      "execution_count": 34,
      "outputs": [
        {
          "data": {},
          "execution_count": 34,
          "metadata": {},
          "output_type": "execute_result"
        }
      ]
    },
    {
      "metadata": {
        "collapsed": true,
        "trusted": false,
        "_uuid": "8e3fafe6c177f7dac0cc819ef77fa0cf8a13b603"
      },
      "cell_type": "code",
      "source": "submission.to_csv(\"submission.csv\",index=False)",
      "execution_count": 33,
      "outputs": []
    },
    {
      "metadata": {
        "collapsed": true,
        "trusted": false,
        "_uuid": "60d91602be496b2e184f3263b014ad974f834675"
      },
      "cell_type": "code",
      "source": "",
      "execution_count": null,
      "outputs": []
    },
    {
      "metadata": {
        "collapsed": true,
        "trusted": false,
        "_uuid": "f2495f28bde077c878ec147b780895be5a534862"
      },
      "cell_type": "code",
      "source": "",
      "execution_count": null,
      "outputs": []
    },
    {
      "metadata": {
        "collapsed": true,
        "trusted": false,
        "_uuid": "976fb666cccd8a647ccb5bf47e11937020542d99"
      },
      "cell_type": "code",
      "source": "",
      "execution_count": null,
      "outputs": []
    },
    {
      "metadata": {
        "collapsed": true,
        "trusted": false,
        "_uuid": "c4ee1f0a21f03421c84cf775dde8cb161a227c08"
      },
      "cell_type": "code",
      "source": "",
      "execution_count": null,
      "outputs": []
    },
    {
      "metadata": {
        "collapsed": true,
        "trusted": false,
        "_uuid": "319f1a5b13b07c68fd507a0b644a8830031f6c5a"
      },
      "cell_type": "code",
      "source": "",
      "execution_count": null,
      "outputs": []
    },
    {
      "metadata": {
        "collapsed": true,
        "trusted": false,
        "_uuid": "3f9140a5af6b03ef82524d221dab0039546ed1d0"
      },
      "cell_type": "code",
      "source": "",
      "execution_count": null,
      "outputs": []
    },
    {
      "metadata": {
        "collapsed": true,
        "trusted": false,
        "_uuid": "d62d841e2918ee2262c9e22ee90122f968c3ac57"
      },
      "cell_type": "code",
      "source": "",
      "execution_count": null,
      "outputs": []
    },
    {
      "metadata": {
        "collapsed": true,
        "trusted": false,
        "_uuid": "b4a88e8a221686d6869c4b2c9d2b3ba715007ec9"
      },
      "cell_type": "code",
      "source": "",
      "execution_count": null,
      "outputs": []
    },
    {
      "metadata": {
        "collapsed": true,
        "trusted": false,
        "_uuid": "2fcc969c859214481af75d2bc39c560f0bce14eb"
      },
      "cell_type": "code",
      "source": "",
      "execution_count": null,
      "outputs": []
    },
    {
      "metadata": {
        "collapsed": true,
        "trusted": false,
        "_uuid": "49a96a26c9a082d011c3a71209e8db9dc6fecee0"
      },
      "cell_type": "code",
      "source": "",
      "execution_count": null,
      "outputs": []
    },
    {
      "metadata": {
        "collapsed": true,
        "trusted": false,
        "_uuid": "c31e9e3a1962b033de2c8729d86995548209210d"
      },
      "cell_type": "code",
      "source": "",
      "execution_count": null,
      "outputs": []
    },
    {
      "metadata": {
        "collapsed": true,
        "trusted": false,
        "_uuid": "b5d123ac2b57af9a50358dbda33e0a5f21db820f"
      },
      "cell_type": "code",
      "source": "",
      "execution_count": null,
      "outputs": []
    },
    {
      "metadata": {
        "collapsed": true,
        "trusted": false,
        "_uuid": "180a7c234dfb5bf89b91b08915ec69782b2d2bbe"
      },
      "cell_type": "code",
      "source": "",
      "execution_count": null,
      "outputs": []
    },
    {
      "metadata": {
        "collapsed": true,
        "trusted": false,
        "_uuid": "288e0a9556f11753d7e7f5680fa97d529eff3e21"
      },
      "cell_type": "code",
      "source": "",
      "execution_count": null,
      "outputs": []
    },
    {
      "metadata": {
        "collapsed": true,
        "trusted": false,
        "_uuid": "e09b627c49d59cacc8e1670283ef97164aaf58ce"
      },
      "cell_type": "code",
      "source": "",
      "execution_count": null,
      "outputs": []
    },
    {
      "metadata": {
        "collapsed": true,
        "trusted": false,
        "_uuid": "554f23f31b73263775429bcd06e453b277087306"
      },
      "cell_type": "code",
      "source": "",
      "execution_count": null,
      "outputs": []
    },
    {
      "metadata": {
        "collapsed": true,
        "trusted": false,
        "_uuid": "d927c9205beb317f8c2540c8019e516a46025b0a"
      },
      "cell_type": "code",
      "source": "",
      "execution_count": null,
      "outputs": []
    },
    {
      "metadata": {
        "collapsed": true,
        "trusted": false,
        "_uuid": "d5634e94cbf570c1bb197df6480d5e6ee43758ad"
      },
      "cell_type": "code",
      "source": "",
      "execution_count": null,
      "outputs": []
    },
    {
      "metadata": {
        "collapsed": true,
        "trusted": false,
        "_uuid": "2009580616ecba41ee800cb41c7d79fa818883c4"
      },
      "cell_type": "code",
      "source": "",
      "execution_count": null,
      "outputs": []
    },
    {
      "metadata": {
        "collapsed": true,
        "trusted": false,
        "_uuid": "aa8477570e5ad242d9ed9c7286dd05adba02fc3a"
      },
      "cell_type": "code",
      "source": "",
      "execution_count": null,
      "outputs": []
    },
    {
      "metadata": {
        "collapsed": true,
        "trusted": false,
        "_uuid": "162d10ad90ceff70506d61fbb435e9087d5fc06e"
      },
      "cell_type": "code",
      "source": "",
      "execution_count": null,
      "outputs": []
    },
    {
      "metadata": {
        "collapsed": true,
        "trusted": false,
        "_uuid": "f100ee1cd42d09460ed41bac6c0938a8a2c72b2b"
      },
      "cell_type": "code",
      "source": "",
      "execution_count": null,
      "outputs": []
    },
    {
      "metadata": {
        "collapsed": true,
        "trusted": false,
        "_uuid": "597af9c4819de1205d0f14c183659c9e3baf91a5"
      },
      "cell_type": "code",
      "source": "",
      "execution_count": null,
      "outputs": []
    },
    {
      "metadata": {
        "collapsed": true,
        "trusted": false,
        "_uuid": "b741275fcd82bd88e1be9e629cbed5d0d08605fd"
      },
      "cell_type": "code",
      "source": "",
      "execution_count": null,
      "outputs": []
    },
    {
      "metadata": {
        "collapsed": true,
        "trusted": false,
        "_uuid": "59eb2097d38d8786b3b41c79e511bf8cbf8ab054"
      },
      "cell_type": "code",
      "source": "",
      "execution_count": null,
      "outputs": []
    },
    {
      "metadata": {
        "collapsed": true,
        "trusted": false,
        "_uuid": "02d9ed780c816e5160903d9eb91bdf3dd6274434"
      },
      "cell_type": "code",
      "source": "",
      "execution_count": null,
      "outputs": []
    },
    {
      "metadata": {
        "collapsed": true,
        "trusted": false,
        "_uuid": "d87ee272fc00e64e219d244ed7058c4a57c0afe5"
      },
      "cell_type": "code",
      "source": "",
      "execution_count": null,
      "outputs": []
    },
    {
      "metadata": {
        "collapsed": true,
        "trusted": false,
        "_uuid": "b9dbe431ea0b3e9dd34921d844329fb13c1071da"
      },
      "cell_type": "code",
      "source": "",
      "execution_count": null,
      "outputs": []
    },
    {
      "metadata": {
        "collapsed": true,
        "trusted": false,
        "_uuid": "2c5a4922e7e34afb990ee153036663f9531d52c3"
      },
      "cell_type": "code",
      "source": "",
      "execution_count": null,
      "outputs": []
    },
    {
      "metadata": {
        "collapsed": true,
        "trusted": false,
        "_uuid": "a349c690f0b9dc8c13d7182ca05c8d5af9f6b983"
      },
      "cell_type": "code",
      "source": "",
      "execution_count": null,
      "outputs": []
    },
    {
      "metadata": {
        "collapsed": true,
        "trusted": false,
        "_uuid": "98bfe5fa80c60c434a4f425b8b9adcdacf1c60e6"
      },
      "cell_type": "code",
      "source": "",
      "execution_count": null,
      "outputs": []
    },
    {
      "metadata": {
        "collapsed": true,
        "trusted": false,
        "_uuid": "233b2625e7f144ae46b97a3ee4c315e48eb86e3a"
      },
      "cell_type": "code",
      "source": "",
      "execution_count": null,
      "outputs": []
    },
    {
      "metadata": {
        "collapsed": true,
        "trusted": false,
        "_uuid": "fa24f22ff5a93600c18392ea7c05b601f9da5cfd"
      },
      "cell_type": "code",
      "source": "",
      "execution_count": null,
      "outputs": []
    },
    {
      "metadata": {
        "collapsed": true,
        "trusted": false,
        "_uuid": "653d1b9dd9224246978334c61af656e13a0cb01b"
      },
      "cell_type": "code",
      "source": "",
      "execution_count": null,
      "outputs": []
    },
    {
      "metadata": {
        "collapsed": true,
        "trusted": false,
        "_uuid": "deb2d52993ad7f2b069d47a544a5ebd656217fcd"
      },
      "cell_type": "code",
      "source": "",
      "execution_count": null,
      "outputs": []
    },
    {
      "metadata": {
        "collapsed": true,
        "trusted": false,
        "_uuid": "65aef64528c1475084371ab0c8fb4c3f93da11ff"
      },
      "cell_type": "code",
      "source": "",
      "execution_count": null,
      "outputs": []
    },
    {
      "metadata": {
        "collapsed": true,
        "trusted": false,
        "_uuid": "5dcae07ba60f272befcd3b98b2c6bb046200c02b"
      },
      "cell_type": "code",
      "source": "",
      "execution_count": null,
      "outputs": []
    },
    {
      "metadata": {
        "collapsed": true,
        "trusted": false,
        "_uuid": "f788fdf8e6aa8e928dd0ffa1653b8d670edd91aa"
      },
      "cell_type": "code",
      "source": "",
      "execution_count": null,
      "outputs": []
    },
    {
      "metadata": {
        "collapsed": true,
        "trusted": false,
        "_uuid": "cd2e25cd35d57ac4b9140ffefe6af4da04d18d9e"
      },
      "cell_type": "code",
      "source": "",
      "execution_count": null,
      "outputs": []
    },
    {
      "metadata": {
        "collapsed": true,
        "trusted": false,
        "_uuid": "fa397ec76c9f686a3393ebd55091fd9710b9a762"
      },
      "cell_type": "code",
      "source": "",
      "execution_count": null,
      "outputs": []
    },
    {
      "metadata": {
        "collapsed": true,
        "trusted": false,
        "_uuid": "da8cfe97ca7ff5e928944bbb52ee3dc6fee8202f"
      },
      "cell_type": "code",
      "source": "",
      "execution_count": null,
      "outputs": []
    },
    {
      "metadata": {
        "collapsed": true,
        "trusted": false,
        "_uuid": "24730ceddae626481c26923d0fc0fba9549bafc2"
      },
      "cell_type": "code",
      "source": "",
      "execution_count": null,
      "outputs": []
    },
    {
      "metadata": {
        "collapsed": true,
        "trusted": false,
        "_uuid": "532415d27f2f1222d25ad58926b8c58ef7d5d6ca"
      },
      "cell_type": "code",
      "source": "",
      "execution_count": null,
      "outputs": []
    },
    {
      "metadata": {
        "collapsed": true,
        "trusted": false,
        "_uuid": "5d8d57376c19501c80edd45bfaac8993b660ea9e"
      },
      "cell_type": "code",
      "source": "",
      "execution_count": null,
      "outputs": []
    },
    {
      "metadata": {
        "collapsed": true,
        "trusted": false,
        "_uuid": "765226d4fbcbedf65156fe7aad48f23af1471128"
      },
      "cell_type": "code",
      "source": "",
      "execution_count": null,
      "outputs": []
    },
    {
      "metadata": {
        "collapsed": true,
        "trusted": false,
        "_uuid": "1daf31f341bb1ecb6a94eac9022c2cfa7d7dacc7"
      },
      "cell_type": "code",
      "source": "",
      "execution_count": null,
      "outputs": []
    },
    {
      "metadata": {
        "collapsed": true,
        "trusted": false,
        "_uuid": "601142cd7b12cd80d7fe98e119eed3f0315414c6"
      },
      "cell_type": "code",
      "source": "",
      "execution_count": null,
      "outputs": []
    },
    {
      "metadata": {
        "collapsed": true,
        "trusted": false,
        "_uuid": "6a7e15fedcf2b41ac619d9a146630e9a579f8320"
      },
      "cell_type": "code",
      "source": "",
      "execution_count": null,
      "outputs": []
    },
    {
      "metadata": {
        "collapsed": true,
        "trusted": false,
        "_uuid": "838ced688e8256f58f19786fda417db9e1e17272"
      },
      "cell_type": "code",
      "source": "",
      "execution_count": null,
      "outputs": []
    },
    {
      "metadata": {
        "collapsed": true,
        "trusted": false,
        "_uuid": "8ac2d7c94ad023c3d5c7a4b8ed4de432b2e4d0d2"
      },
      "cell_type": "code",
      "source": "",
      "execution_count": null,
      "outputs": []
    }
  ],
  "metadata": {
    "kernelspec": {
      "display_name": "Python 3",
      "language": "python",
      "name": "python3"
    },
    "language_info": {
      "name": "python",
      "version": "3.6.4",
      "mimetype": "text/x-python",
      "codemirror_mode": {
        "name": "ipython",
        "version": 3
      },
      "pygments_lexer": "ipython3",
      "nbconvert_exporter": "python",
      "file_extension": ".py"
    }
  },
  "nbformat": 4,
  "nbformat_minor": 1
}